{
  "nbformat": 4,
  "nbformat_minor": 0,
  "metadata": {
    "colab": {
      "provenance": [],
      "gpuType": "T4",
      "authorship_tag": "ABX9TyNsFVUcQAqVlIRJHy4k+9AT"
    },
    "kernelspec": {
      "name": "python3",
      "display_name": "Python 3"
    },
    "language_info": {
      "name": "python"
    },
    "accelerator": "GPU"
  },
  "cells": [
    {
      "cell_type": "markdown",
      "source": [
        "# GPT-2 from Scratch\n",
        "\n",
        "<!-- Welcome to this comprehensive tutorial on building GPT-2 from scratch! This notebook is optimized for **GPU**.\n",
        "\n",
        "## What You'll Build:\n",
        "- Complete GPT-2 architecture from scratch\n",
        "- Working text generation model\n",
        "- All components explained step-by-step\n",
        "- Memory-optimized for GPU (~15GB VRAM) -->\n",
        "\n",
        "## Table of Contents\n",
        "- [Environment Setup](#environment-setup)\n",
        "- [Architecture Overview](#architecture-overview)\n",
        "- [Token Embeddings](#token-embeddings)\n",
        "- [Positional Encodings](#positional-encodings)\n",
        "- [Multi-Head Self-Attention](#multi-head-self-attention)\n",
        "- [Causal Masking](#causal-masking)\n",
        "- [Feed-Forward Networks](#feed-forward-networks)\n",
        "- [Transformer Block](#transformer-block)\n",
        "- [Complete GPT-2 Model](#complete-gpt-2-model)\n",
        "- [Text Generation](#text-generation)\n",
        "- [Training Demo](#training-demo)\n",
        "- [Performance Testing](#performance-testing)"
      ],
      "metadata": {
        "id": "gJ1BfTtRnkfW"
      }
    },
    {
      "cell_type": "code",
      "execution_count": 22,
      "metadata": {
        "colab": {
          "base_uri": "https://localhost:8080/"
        },
        "id": "Nxci7__bmvd2",
        "outputId": "6f607863-6537-44be-ce95-b504a3d286e5"
      },
      "outputs": [
        {
          "output_type": "stream",
          "name": "stdout",
          "text": [
            "Using device: cuda\n",
            "GPU: Tesla T4\n",
            "GPU Memory: 15.8 GB\n"
          ]
        }
      ],
      "source": [
        "# Environment Setup\n",
        "import torch\n",
        "import torch.nn as nn\n",
        "import torch.nn.functional as F\n",
        "import math\n",
        "import numpy as np\n",
        "import time\n",
        "import matplotlib.pyplot as plt\n",
        "from torch.utils.data import DataLoader, TensorDataset\n",
        "\n",
        "# Check GPU availability\n",
        "device = torch.device('cuda' if torch.cuda.is_available() else 'cpu')\n",
        "print(f\"Using device: {device}\")\n",
        "\n",
        "if torch.cuda.is_available():\n",
        "    gpu_name = torch.cuda.get_device_name(0)\n",
        "    gpu_memory = torch.cuda.get_device_properties(0).total_memory / 1e9\n",
        "    print(f\"GPU: {gpu_name}\")\n",
        "    print(f\"GPU Memory: {gpu_memory:.1f} GB\")\n",
        "\n",
        "    # Enable optimizations for T4\n",
        "    torch.backends.cudnn.benchmark = True\n",
        "    torch.cuda.empty_cache()\n",
        "else:\n",
        "    print(\"GPU not available. Switch to GPU runtime!\")\n",
        "\n",
        "# Set seeds for reproducibility\n",
        "torch.manual_seed(42)\n",
        "np.random.seed(42)\n",
        "if torch.cuda.is_available():\n",
        "    torch.cuda.manual_seed(42)"
      ]
    },
    {
      "cell_type": "markdown",
      "source": [
        "## Architecture Overview\n",
        "\n",
        "GPT-2 is a **decoder-only transformer** that predicts the next token in a sequence.\n",
        "\n",
        "### Key Components:\n",
        "1. **Token Embeddings** + **Positional Encodings**\n",
        "2. **Multi-Head Self-Attention** with causal masking\n",
        "3. **Feed-Forward Networks** with GELU activation\n",
        "4. **Layer Normalization** (pre-norm style)\n",
        "5. **Language Modeling Head** for token prediction\n",
        "\n",
        "### GPU Considerations:\n",
        "- **Memory**: ~15GB VRAM allows GPT-2 Small/Medium training\n",
        "- **Compute**: Good for inference, moderate for training\n",
        "- **Optimization**: We'll use mixed precision and gradient checkpointing"
      ],
      "metadata": {
        "id": "0ARw2D1Ln4B6"
      }
    },
    {
      "cell_type": "code",
      "source": [
        "# Memory and Performance Utilities\n",
        "def get_model_size(model):\n",
        "    \"\"\"Calculate model size in parameters and memory.\"\"\"\n",
        "    param_count = sum(p.numel() for p in model.parameters())\n",
        "    param_size = sum(p.numel() * p.element_size() for p in model.parameters())\n",
        "    buffer_size = sum(b.numel() * b.element_size() for b in model.buffers())\n",
        "    total_size = param_size + buffer_size\n",
        "\n",
        "    return {\n",
        "        'parameters': param_count,\n",
        "        'size_mb': total_size / 1e6,\n",
        "        'size_gb': total_size / 1e9\n",
        "    }\n",
        "\n",
        "def check_gpu_memory():\n",
        "    \"\"\"Check GPU memory usage.\"\"\"\n",
        "    if torch.cuda.is_available():\n",
        "        allocated = torch.cuda.memory_allocated() / 1e9\n",
        "        cached = torch.cuda.memory_reserved() / 1e9\n",
        "        total = torch.cuda.get_device_properties(0).total_memory / 1e9\n",
        "        print(f\"GPU Memory - Allocated: {allocated:.1f}GB, Cached: {cached:.1f}GB, Total: {total:.1f}GB\")\n",
        "        return allocated, cached, total\n",
        "    return 0, 0, 0\n",
        "\n",
        "# Initial memory check\n",
        "check_gpu_memory()"
      ],
      "metadata": {
        "colab": {
          "base_uri": "https://localhost:8080/"
        },
        "id": "ag3e3_i7ntY3",
        "outputId": "968ff96d-30ea-460c-e3fe-346d07d6f55b"
      },
      "execution_count": 2,
      "outputs": [
        {
          "output_type": "stream",
          "name": "stdout",
          "text": [
            "GPU Memory - Allocated: 0.0GB, Cached: 0.0GB, Total: 15.8GB\n"
          ]
        },
        {
          "output_type": "execute_result",
          "data": {
            "text/plain": [
              "(0.0, 0.0, 15.828320256)"
            ]
          },
          "metadata": {},
          "execution_count": 2
        }
      ]
    },
    {
      "cell_type": "markdown",
      "source": [
        "## Token Embeddings\n",
        "\n",
        "Convert discrete tokens to dense vectors that the model can work with.\n",
        "\n",
        "### Key Points:\n",
        "- Each token gets a learnable vector of size `d_model`\n",
        "- Scaled by √d_model for better training dynamics\n",
        "- Shared with output layer (weight tying) to save memory"
      ],
      "metadata": {
        "id": "fPYMMsxBoJmc"
      }
    },
    {
      "cell_type": "code",
      "source": [
        "class TokenEmbedding(nn.Module):\n",
        "    \"\"\"\n",
        "    Token embedding layer optimized for memory efficiency.\n",
        "    \"\"\"\n",
        "    def __init__(self, vocab_size, d_model):\n",
        "        super().__init__()\n",
        "        self.embedding = nn.Embedding(vocab_size, d_model)\n",
        "        self.d_model = d_model\n",
        "\n",
        "        # Initialize weights (important for training stability)\n",
        "        nn.init.normal_(self.embedding.weight, mean=0, std=0.02)\n",
        "\n",
        "    def forward(self, x):\n",
        "        # Scale by sqrt(d_model) as in original paper\n",
        "        return self.embedding(x) * math.sqrt(self.d_model)\n",
        "\n",
        "# Test token embeddings\n",
        "vocab_size = 50257  # GPT-2 vocabulary\n",
        "d_model = 768       # GPT-2 small dimension\n",
        "\n",
        "token_embed = TokenEmbedding(vocab_size, d_model).to(device)\n",
        "test_tokens = torch.randint(0, vocab_size, (2, 10)).to(device)\n",
        "embedded = token_embed(test_tokens)\n",
        "\n",
        "print(f\"Token Embedding Test:\")\n",
        "print(f\"Input: {test_tokens.shape} -> Output: {embedded.shape}\")\n",
        "print(f\"Memory: {get_model_size(token_embed)['size_mb']:.1f}MB\")"
      ],
      "metadata": {
        "colab": {
          "base_uri": "https://localhost:8080/"
        },
        "id": "9xRngbHEoGuk",
        "outputId": "dcc08040-9e76-4459-c4fe-429e5e5acd16"
      },
      "execution_count": 5,
      "outputs": [
        {
          "output_type": "stream",
          "name": "stdout",
          "text": [
            "Token Embedding Test:\n",
            "Input: torch.Size([2, 10]) -> Output: torch.Size([2, 10, 768])\n",
            "Memory: 154.4MB\n"
          ]
        }
      ]
    },
    {
      "cell_type": "markdown",
      "source": [
        "## Positional Encodings\n",
        "\n",
        "GPT-2 uses **learned positional embeddings** to give the model information about token positions.\n",
        "\n",
        "### Why This Matters:\n",
        "- \"The cat sat on the mat\" ≠ \"The mat sat on the cat\"\n",
        "- Transformers have no built-in sense of order\n",
        "- Learned embeddings adapt to the specific task"
      ],
      "metadata": {
        "id": "CsmE5tLooYSD"
      }
    },
    {
      "cell_type": "code",
      "source": [
        "class PositionalEncoding(nn.Module):\n",
        "    \"\"\"\n",
        "    Learnable positional embeddings for GPT-2.\n",
        "    \"\"\"\n",
        "    def __init__(self, max_seq_len, d_model):\n",
        "        super().__init__()\n",
        "        self.pos_embedding = nn.Embedding(max_seq_len, d_model)\n",
        "\n",
        "        # Initialize positional embeddings\n",
        "        nn.init.normal_(self.pos_embedding.weight, mean=0, std=0.02)\n",
        "\n",
        "    def forward(self, x):\n",
        "        seq_len = x.size(1)\n",
        "        positions = torch.arange(0, seq_len, device=x.device)\n",
        "        return self.pos_embedding(positions)\n",
        "\n",
        "# Test positional encodings\n",
        "max_seq_len = 1024\n",
        "pos_encoding = PositionalEncoding(max_seq_len, d_model).to(device)\n",
        "\n",
        "seq_len = 10\n",
        "test_input = torch.randn(2, seq_len, d_model).to(device)\n",
        "pos_emb = pos_encoding(test_input)\n",
        "combined = test_input + pos_emb\n",
        "\n",
        "print(f\"Positional Encoding Test:\")\n",
        "print(f\"Input: {test_input.shape}\")\n",
        "print(f\"Pos embeddings: {pos_emb.shape}\")\n",
        "print(f\"Combined: {combined.shape}\")"
      ],
      "metadata": {
        "colab": {
          "base_uri": "https://localhost:8080/"
        },
        "id": "ztCxFZj_oPMI",
        "outputId": "53310202-8a42-448e-eedd-8ef053309726"
      },
      "execution_count": 7,
      "outputs": [
        {
          "output_type": "stream",
          "name": "stdout",
          "text": [
            "Positional Encoding Test:\n",
            "Input: torch.Size([2, 10, 768])\n",
            "Pos embeddings: torch.Size([10, 768])\n",
            "Combined: torch.Size([2, 10, 768])\n"
          ]
        }
      ]
    },
    {
      "cell_type": "markdown",
      "source": [
        "## Multi-Head Self-Attention\n",
        "\n",
        "The **heart of the transformer**! Allows the model to focus on different parts of the sequence simultaneously.\n",
        "\n",
        "### Key Concepts:\n",
        "- **Query (Q)**: \"What am I looking for?\"\n",
        "- **Key (K)**: \"What information do I have?\"\n",
        "- **Value (V)**: \"What information do I provide?\"\n",
        "- **Multiple heads**: Parallel attention patterns\n",
        "\n",
        "### Formula:\n",
        "$$\\text{Attention}(Q, K, V) = \\text{softmax}\\left(\\frac{QK^T}{\\sqrt{d_k}}\\right)V$$\n",
        "  where:\n",
        "  - $d_k$: The dimension of the keys (used as the scaling factor)"
      ],
      "metadata": {
        "id": "J8wI96iAo7J7"
      }
    },
    {
      "cell_type": "markdown",
      "source": [
        "### T4 Optimization:\n",
        "- Using `F.scaled_dot_product_attention()` (PyTorch 2.0+) for memory efficiency"
      ],
      "metadata": {
        "id": "OrnJvHmAp-et"
      }
    },
    {
      "cell_type": "code",
      "source": [
        "class MultiHeadAttention(nn.Module):\n",
        "    \"\"\"\n",
        "    Multi-Head Self-Attention optimized for T4 GPU.\n",
        "    \"\"\"\n",
        "    def __init__(self, d_model, n_heads, dropout=0.1):\n",
        "        super().__init__()\n",
        "        assert d_model % n_heads == 0\n",
        "\n",
        "        self.d_model = d_model\n",
        "        self.n_heads = n_heads\n",
        "        self.d_k = d_model // n_heads\n",
        "\n",
        "        # Combined QKV projection for efficiency\n",
        "        self.qkv_proj = nn.Linear(d_model, 3 * d_model, bias=False)\n",
        "        self.out_proj = nn.Linear(d_model, d_model, bias=False)\n",
        "        self.dropout = nn.Dropout(dropout)\n",
        "\n",
        "        # Initialize weights\n",
        "        nn.init.normal_(self.qkv_proj.weight, mean=0, std=0.02)\n",
        "        nn.init.normal_(self.out_proj.weight, mean=0, std=0.02)\n",
        "\n",
        "    def forward(self, x, mask=None):\n",
        "        batch_size, seq_len, d_model = x.shape\n",
        "\n",
        "        # Single projection for Q, K, V\n",
        "        qkv = self.qkv_proj(x)  # (B, L, 3*d_model)\n",
        "        qkv = qkv.reshape(batch_size, seq_len, 3, self.n_heads, self.d_k)\n",
        "        qkv = qkv.permute(2, 0, 3, 1, 4)  # (3, B, n_heads, L, d_k)\n",
        "        q, k, v = qkv[0], qkv[1], qkv[2]\n",
        "\n",
        "        # Scaled dot-product attention (optimized for PyTorch 2.0+)\n",
        "        if hasattr(F, 'scaled_dot_product_attention'):\n",
        "            # Use PyTorch's optimized attention (faster on modern GPUs)\n",
        "            attn_output = F.scaled_dot_product_attention(\n",
        "                q, k, v, attn_mask=mask, dropout_p=self.dropout.p if self.training else 0\n",
        "            )\n",
        "        else:\n",
        "            # Fallback implementation\n",
        "            scores = torch.matmul(q, k.transpose(-2, -1)) / math.sqrt(self.d_k)\n",
        "            if mask is not None:\n",
        "                scores = scores.masked_fill(mask == 0, -1e9)\n",
        "            attn_weights = F.softmax(scores, dim=-1)\n",
        "            attn_weights = self.dropout(attn_weights)\n",
        "            attn_output = torch.matmul(attn_weights, v)\n",
        "\n",
        "        # Reshape and project output\n",
        "        attn_output = attn_output.transpose(1, 2).contiguous()\n",
        "        attn_output = attn_output.reshape(batch_size, seq_len, d_model)\n",
        "        output = self.out_proj(attn_output)\n",
        "\n",
        "        return output\n",
        "\n",
        "# Test multi-head attention\n",
        "n_heads = 12\n",
        "attention = MultiHeadAttention(d_model, n_heads).to(device)\n",
        "\n",
        "test_input = torch.randn(2, 10, d_model).to(device)\n",
        "attn_output = attention(test_input)\n",
        "\n",
        "print(f\"Multi-Head Attention Test:\")\n",
        "print(f\"Input: {test_input.shape} -> Output: {attn_output.shape}\")\n",
        "print(f\"Parameters: {sum(p.numel() for p in attention.parameters()):,}\")\n",
        "\n",
        "# Memory check\n",
        "check_gpu_memory()"
      ],
      "metadata": {
        "colab": {
          "base_uri": "https://localhost:8080/"
        },
        "id": "705aT_7kozyK",
        "outputId": "4b6627ba-2acd-4aee-f40b-07f14e97f4b4"
      },
      "execution_count": 8,
      "outputs": [
        {
          "output_type": "stream",
          "name": "stdout",
          "text": [
            "Multi-Head Attention Test:\n",
            "Input: torch.Size([2, 10, 768]) -> Output: torch.Size([2, 10, 768])\n",
            "Parameters: 2,359,296\n",
            "GPU Memory - Allocated: 0.2GB, Cached: 0.3GB, Total: 15.8GB\n"
          ]
        },
        {
          "output_type": "execute_result",
          "data": {
            "text/plain": [
              "(0.177604608, 0.312475648, 15.828320256)"
            ]
          },
          "metadata": {},
          "execution_count": 8
        }
      ]
    },
    {
      "cell_type": "markdown",
      "source": [
        "\n",
        "\n",
        "## Causal Masking (Look-Ahead Masking)\n",
        "\n",
        "Causal Masking is a technique used exclusively in the **decoder** of the Transformer (and in decoder-only models like GPT) to ensure the model remains **autoregressive**, (preventing it from \"looking forward\").\n",
        "\n",
        "### Why It's Critical:\n",
        "\n",
        "* **Training**: The model learns to predict the next token $\\mathbf{y}_t$ based only on previous tokens $\\mathbf{y}_{<t}$. This prevents \"cheating\" by looking at future answers.\n",
        "* **Generation**: It enforces the sequential, left-to-right generation process.\n",
        "* **Consistency**: It guarantees the same behavior during both training and inference (generation).\n",
        "\n",
        "### Pattern: The Causal Mask Matrix\n",
        "\n",
        "The causal mask creates a **lower triangular matrix**. Positions above the main diagonal are masked, preventing attention flow from future tokens.\n",
        "\n",
        "For a sequence of length $N=4$, the mask looks like this (where $\\mathbf{-\\infty}$ masks the connection):\n",
        "\n",
        "$$\n",
        "\\begin{array}{c|cccc}\n",
        "\\text{To } \\rightarrow & 0 & 1 & 2 & 3 \\\\\n",
        "\\hline\n",
        "\\text{From } 0 & 0 & \\mathbf{-\\infty} & \\mathbf{-\\infty} & \\mathbf{-\\infty} \\\\\n",
        "\\text{From } 1 & 0 & 0 & \\mathbf{-\\infty} & \\mathbf{-\\infty} \\\\\n",
        "\\text{From } 2 & 0 & 0 & 0 & \\mathbf{-\\infty} \\\\\n",
        "\\text{From } 3 & 0 & 0 & 0 & 0\n",
        "\\end{array}\n",
        "$$\n",
        "\n",
        "**Effect:** Masked values ($\\mathbf{-\\infty}$) become **zero** after the $\\text{softmax}$ operation, effectively disconnecting the query from future keys/values."
      ],
      "metadata": {
        "id": "Thp1pRDtqJkh"
      }
    },
    {
      "cell_type": "code",
      "source": [
        "def create_causal_mask(seq_len, device=None):\n",
        "    \"\"\"\n",
        "    Create causal attention mask (lower triangular).\n",
        "    \"\"\"\n",
        "    mask = torch.tril(torch.ones(seq_len, seq_len, device=device))\n",
        "    return mask.unsqueeze(0).unsqueeze(0)  # Add batch and head dimensions\n",
        "\n",
        "# Test causal masking\n",
        "seq_len = 8\n",
        "mask = create_causal_mask(seq_len, device)\n",
        "print(f\"Causal Mask Test (seq_len={seq_len}):\")\n",
        "print(mask.squeeze().int())\n",
        "\n",
        "# Visualize the mask\n",
        "plt.figure(figsize=(6, 5))\n",
        "plt.imshow(mask.squeeze().cpu(), cmap='Blues')\n",
        "plt.title('Causal Attention Mask')\n",
        "plt.xlabel('Key Position')\n",
        "plt.ylabel('Query Position')\n",
        "plt.colorbar()\n",
        "plt.show()"
      ],
      "metadata": {
        "colab": {
          "base_uri": "https://localhost:8080/",
          "height": 635
        },
        "id": "FHpyQGI-qESA",
        "outputId": "0731d7da-031c-4a2d-e580-981ebfc9528d"
      },
      "execution_count": 9,
      "outputs": [
        {
          "output_type": "stream",
          "name": "stdout",
          "text": [
            "Causal Mask Test (seq_len=8):\n",
            "tensor([[1, 0, 0, 0, 0, 0, 0, 0],\n",
            "        [1, 1, 0, 0, 0, 0, 0, 0],\n",
            "        [1, 1, 1, 0, 0, 0, 0, 0],\n",
            "        [1, 1, 1, 1, 0, 0, 0, 0],\n",
            "        [1, 1, 1, 1, 1, 0, 0, 0],\n",
            "        [1, 1, 1, 1, 1, 1, 0, 0],\n",
            "        [1, 1, 1, 1, 1, 1, 1, 0],\n",
            "        [1, 1, 1, 1, 1, 1, 1, 1]], device='cuda:0', dtype=torch.int32)\n"
          ]
        },
        {
          "output_type": "display_data",
          "data": {
            "text/plain": [
              "<Figure size 600x500 with 2 Axes>"
            ],
            "image/png": "[encoded data removed]"
          },
          "metadata": {}
        }
      ]
    },
    {
      "cell_type": "markdown",
      "source": [
        "## Feed-Forward Networks\n",
        "\n",
        "Position-wise feed-forward network that processes the attention output.\n",
        "\n",
        "### Architecture:\n",
        "1. **Expand**: $$ d_{model} → 4×d_{model}  $$\n",
        "<br>\n",
        "\n",
        "2. **Activate**: GELU (smoother than ReLU)\n",
        "\n",
        "<br>\n",
        "\n",
        "3. **Contract**: $$ 4×d_{model} → d_{model} $$\n",
        "\n",
        "### GELU Benefits:\n",
        "- Smoother gradients than ReLU\n",
        "- Better performance on language tasks\n",
        "- Used in most modern transformers"
      ],
      "metadata": {
        "id": "6XTCdBFirqjV"
      }
    },
    {
      "cell_type": "code",
      "source": [
        "class FeedForward(nn.Module):\n",
        "    \"\"\"\n",
        "    Position-wise feed-forward network with GELU activation.\n",
        "    \"\"\"\n",
        "    def __init__(self, d_model, d_ff=None, dropout=0.1):\n",
        "        super().__init__()\n",
        "        if d_ff is None:\n",
        "            d_ff = 4 * d_model\n",
        "\n",
        "        self.linear1 = nn.Linear(d_model, d_ff)\n",
        "        self.linear2 = nn.Linear(d_ff, d_model)\n",
        "        self.gelu = nn.GELU()\n",
        "        self.dropout = nn.Dropout(dropout)\n",
        "\n",
        "        # Initialize weights\n",
        "        nn.init.normal_(self.linear1.weight, mean=0, std=0.02)\n",
        "        nn.init.normal_(self.linear2.weight, mean=0, std=0.02)\n",
        "\n",
        "    def forward(self, x):\n",
        "        x = self.linear1(x)\n",
        "        x = self.gelu(x)\n",
        "        x = self.dropout(x)\n",
        "        x = self.linear2(x)\n",
        "        return x\n",
        "\n",
        "# Test feed-forward network\n",
        "d_ff = 4 * d_model  # Standard 4x expansion\n",
        "ff_network = FeedForward(d_model, d_ff).to(device)\n",
        "\n",
        "test_input = torch.randn(2, 10, d_model).to(device)\n",
        "ff_output = ff_network(test_input)\n",
        "\n",
        "print(f\"Feed-Forward Test:\")\n",
        "print(f\"Input: {test_input.shape} -> Output: {ff_output.shape}\")\n",
        "print(f\"Expansion ratio: {d_ff // d_model}x\")\n",
        "print(f\"Parameters: {sum(p.numel() for p in ff_network.parameters()):,}\")"
      ],
      "metadata": {
        "colab": {
          "base_uri": "https://localhost:8080/"
        },
        "id": "SPtUA3cnqZEh",
        "outputId": "78fd2fc5-b860-4a1f-991f-ec10296e33e1"
      },
      "execution_count": 10,
      "outputs": [
        {
          "output_type": "stream",
          "name": "stdout",
          "text": [
            "Feed-Forward Test:\n",
            "Input: torch.Size([2, 10, 768]) -> Output: torch.Size([2, 10, 768])\n",
            "Expansion ratio: 4x\n",
            "Parameters: 4,722,432\n"
          ]
        }
      ]
    },
    {
      "cell_type": "markdown",
      "source": [
        "## The Transformer Block\n",
        "\n",
        "A fundamental unit that combines a self-attention mechanism and a position-wise feed-forward network (FFN), integrated with residual connections and layer normalization.\n",
        "\n",
        "---\n",
        "\n",
        "### GPT-2 Architecture (Pre-LayerNorm)\n",
        "\n",
        "The GPT-style architecture uses **Layer Normalization** *before* the attention and feed-forward sub-layers (Pre-LayerNorm).\n",
        "\n",
        "* **Pre-LayerNorm**: Applying normalization before the sub-layer inputs stabilizes training.\n",
        "* **Residual Connections** ($\\mathbf{x} + \\text{Sublayer}(\\mathbf{x})$): Crucial for allowing gradients to flow directly through the identity mapping, enabling the training of very deep networks.\n",
        "* **Stability**: This architecture is often more stable, especially in deep models, compared to the original \"Post-LayerNorm\" design (like in the original BERT/Transformer paper).\n",
        "\n",
        "---\n",
        "\n",
        "### Data Flow Diagram\n",
        "\n",
        "The process involves two main steps, each combining a sub-layer with a residual connection and a LayerNorm:\n",
        "\n",
        "$$\n",
        "\\mathbf{h} = \\mathbf{x} + \\text{Attention}(\\text{LayerNorm}(\\mathbf{x}))\n",
        "$$\n",
        "\n",
        "$$\n",
        "\\mathbf{y} = \\mathbf{h} + \\text{FFN}(\\text{LayerNorm}(\\mathbf{h}))\n",
        "$$\n",
        "\n",
        "---\n",
        "\n",
        "### Step-by-Step Flow:\n",
        "\n",
        "The flow shows the input ($\\mathbf{x}$) feeding into a $\\text{LayerNorm}$, then a sub-layer, which is finally added back to the original input ($\\mathbf{x}$ or $\\mathbf{h}$) to form the output.\n"
      ],
      "metadata": {
        "id": "Ulz_K1AksJO5"
      }
    },
    {
      "cell_type": "markdown",
      "source": [
        "[![GPT-2 Transformer BLock](https://drive.google.com/uc?export=view&id=1UzS06PQ9PSBd3PhHo4N4NDV9wbRulkv0)](https://drive.google.com/file/d/1UzS06PQ9PSBd3PhHo4N4NDV9wbRulkv0/view?usp=sharing)"
      ],
      "metadata": {
        "id": "vcJb9_4rtWbn"
      }
    },
    {
      "cell_type": "code",
      "source": [
        "class TransformerBlock(nn.Module):\n",
        "    \"\"\"\n",
        "    Single GPT-2 transformer block with pre-layer normalization.\n",
        "    \"\"\"\n",
        "    def __init__(self, d_model, n_heads, d_ff=None, dropout=0.1):\n",
        "        super().__init__()\n",
        "        self.attention = MultiHeadAttention(d_model, n_heads, dropout)\n",
        "        self.feed_forward = FeedForward(d_model, d_ff, dropout)\n",
        "        self.ln1 = nn.LayerNorm(d_model)\n",
        "        self.ln2 = nn.LayerNorm(d_model)\n",
        "\n",
        "    def forward(self, x, mask=None):\n",
        "        # Pre-norm attention with residual connection\n",
        "        attn_out = self.attention(self.ln1(x), mask)\n",
        "        x = x + attn_out\n",
        "\n",
        "        # Pre-norm feed-forward with residual connection\n",
        "        ff_out = self.feed_forward(self.ln2(x))\n",
        "        x = x + ff_out\n",
        "\n",
        "        return x\n",
        "\n",
        "# Test transformer block\n",
        "transformer_block = TransformerBlock(d_model, n_heads, d_ff).to(device)\n",
        "\n",
        "test_input = torch.randn(2, 10, d_model).to(device)\n",
        "test_mask = create_causal_mask(10, device)\n",
        "block_output = transformer_block(test_input, test_mask)\n",
        "\n",
        "print(f\"Transformer Block Test:\")\n",
        "print(f\"Input: {test_input.shape} -> Output: {block_output.shape}\")\n",
        "print(f\"Parameters: {sum(p.numel() for p in transformer_block.parameters()):,}\")\n",
        "\n",
        "# Check memory usage\n",
        "check_gpu_memory()"
      ],
      "metadata": {
        "colab": {
          "base_uri": "https://localhost:8080/"
        },
        "id": "VTEuytlsrutU",
        "outputId": "2248784c-65c7-4e56-a3d7-d3c189a2a810"
      },
      "execution_count": 12,
      "outputs": [
        {
          "output_type": "stream",
          "name": "stdout",
          "text": [
            "Transformer Block Test:\n",
            "Input: torch.Size([2, 10, 768]) -> Output: torch.Size([2, 10, 768])\n",
            "Parameters: 7,084,800\n",
            "GPU Memory - Allocated: 0.2GB, Cached: 0.3GB, Total: 15.8GB\n"
          ]
        },
        {
          "output_type": "execute_result",
          "data": {
            "text/plain": [
              "(0.226622464, 0.316669952, 15.828320256)"
            ]
          },
          "metadata": {},
          "execution_count": 12
        }
      ]
    },
    {
      "cell_type": "markdown",
      "source": [
        "## Complete GPT-2 Model\n",
        "\n",
        "Now we assemble everything into the full GPT-2 architecture!\n",
        "\n",
        "### Features:\n",
        "- **Memory efficient**: Optimized for T4 GPU\n",
        "- **Weight tying**: Input/output embeddings shared\n",
        "- **Gradient checkpointing**: Optional for larger models\n",
        "- **Mixed precision ready**: For faster training"
      ],
      "metadata": {
        "id": "Bdlrbp03tqVZ"
      }
    },
    {
      "cell_type": "code",
      "source": [
        "class GPT2Model(nn.Module):\n",
        "    \"\"\"\n",
        "    Complete GPT-2 model optimized for Google Colab T4.\n",
        "    \"\"\"\n",
        "    def __init__(self, vocab_size, d_model, n_heads, n_layers,\n",
        "                 max_seq_len=1024, dropout=0.1, use_checkpointing=False):\n",
        "        super().__init__()\n",
        "\n",
        "        self.d_model = d_model\n",
        "        self.max_seq_len = max_seq_len\n",
        "        self.use_checkpointing = use_checkpointing\n",
        "\n",
        "        # Embeddings\n",
        "        self.token_embedding = TokenEmbedding(vocab_size, d_model)\n",
        "        self.pos_encoding = PositionalEncoding(max_seq_len, d_model)\n",
        "        self.dropout = nn.Dropout(dropout)\n",
        "\n",
        "        # Transformer blocks\n",
        "        self.transformer_blocks = nn.ModuleList([\n",
        "            TransformerBlock(d_model, n_heads, 4*d_model, dropout)\n",
        "            for _ in range(n_layers)\n",
        "        ])\n",
        "\n",
        "        # Final layer norm and output head\n",
        "        self.ln_final = nn.LayerNorm(d_model)\n",
        "        self.lm_head = nn.Linear(d_model, vocab_size, bias=False)\n",
        "\n",
        "        # Weight tying (saves memory and often improves performance)\n",
        "        self.lm_head.weight = self.token_embedding.embedding.weight\n",
        "\n",
        "        # Initialize weights\n",
        "        self.apply(self._init_weights)\n",
        "\n",
        "    def _init_weights(self, module):\n",
        "        \"\"\"Initialize weights following GPT-2 paper.\"\"\"\n",
        "        if isinstance(module, nn.Linear):\n",
        "            nn.init.normal_(module.weight, mean=0.0, std=0.02)\n",
        "            if module.bias is not None:\n",
        "                nn.init.zeros_(module.bias)\n",
        "        elif isinstance(module, nn.Embedding):\n",
        "            nn.init.normal_(module.weight, mean=0.0, std=0.02)\n",
        "        elif isinstance(module, nn.LayerNorm):\n",
        "            nn.init.zeros_(module.bias)\n",
        "            nn.init.ones_(module.weight)\n",
        "\n",
        "    def forward(self, input_ids, attention_mask=None):\n",
        "        batch_size, seq_len = input_ids.shape\n",
        "\n",
        "        # Create causal mask if not provided\n",
        "        if attention_mask is None:\n",
        "            attention_mask = create_causal_mask(seq_len, input_ids.device)\n",
        "\n",
        "        # Embeddings\n",
        "        token_emb = self.token_embedding(input_ids)\n",
        "        pos_emb = self.pos_encoding(token_emb)\n",
        "        x = self.dropout(token_emb + pos_emb)\n",
        "\n",
        "        # Pass through transformer blocks\n",
        "        for block in self.transformer_blocks:\n",
        "            if self.use_checkpointing and self.training:\n",
        "                # Use gradient checkpointing to save memory\n",
        "                x = torch.utils.checkpoint.checkpoint(block, x, attention_mask)\n",
        "            else:\n",
        "                x = block(x, attention_mask)\n",
        "\n",
        "        # Final layer norm and output projection\n",
        "        x = self.ln_final(x)\n",
        "        logits = self.lm_head(x)\n",
        "\n",
        "        return logits\n",
        "\n",
        "# Create GPT-2 Small model (fits comfortably on T4)\n",
        "config_small = {\n",
        "    'vocab_size': 50257,\n",
        "    'd_model': 768,\n",
        "    'n_heads': 12,\n",
        "    'n_layers': 12,\n",
        "    'max_seq_len': 1024,\n",
        "    'dropout': 0.1\n",
        "}\n",
        "\n",
        "print(\"Creating GPT-2 Small model...\")\n",
        "model = GPT2Model(**config_small).to(device)\n",
        "\n",
        "# Model statistics\n",
        "model_stats = get_model_size(model)\n",
        "print(f\"Model created successfully!\")\n",
        "print(f\"Parameters: {model_stats['parameters']:,}\")\n",
        "print(f\"Size: {model_stats['size_mb']:.1f}MB ({model_stats['size_gb']:.2f}GB)\")\n",
        "\n",
        "# Test forward pass\n",
        "test_seq_len = 20\n",
        "test_input = torch.randint(0, config_small['vocab_size'], (2, test_seq_len)).to(device)\n",
        "\n",
        "with torch.no_grad():\n",
        "    logits = model(test_input)\n",
        "\n",
        "print(f\"Forward pass: {test_input.shape} -> {logits.shape}\")\n",
        "\n",
        "# Memory check after model creation\n",
        "check_gpu_memory()"
      ],
      "metadata": {
        "colab": {
          "base_uri": "https://localhost:8080/"
        },
        "id": "--2iV2Pmtliu",
        "outputId": "3f99ea30-7a94-4b76-c99c-a1516e6bab44"
      },
      "execution_count": 14,
      "outputs": [
        {
          "output_type": "stream",
          "name": "stdout",
          "text": [
            "Creating GPT-2 Small model...\n",
            "Model created successfully!\n",
            "Parameters: 124,402,944\n",
            "Size: 497.6MB (0.50GB)\n",
            "Forward pass: torch.Size([2, 20]) -> torch.Size([2, 20, 50257])\n",
            "GPU Memory - Allocated: 0.7GB, Cached: 1.3GB, Total: 15.8GB\n"
          ]
        },
        {
          "output_type": "execute_result",
          "data": {
            "text/plain": [
              "(0.733075968, 1.319108608, 15.828320256)"
            ]
          },
          "metadata": {},
          "execution_count": 14
        }
      ]
    },
    {
      "cell_type": "markdown",
      "source": [
        "## Text Generation\n",
        "\n",
        "Implement various sampling strategies for text generation!\n",
        "\n",
        "### Sampling Methods:\n",
        "1. **Greedy**: Always pick highest probability token\n",
        "2. **Temperature**: Control randomness (0.0 = deterministic, 1.0+ = creative)  \n",
        "3. **Top-k**: Sample from k most likely tokens\n",
        "4. **Top-p (Nucleus)**: Sample from tokens making up p% of probability mass\n",
        "\n",
        "### T4 Optimization:\n",
        "- Batch generation for efficiency\n",
        "- KV-caching could be added for longer sequences"
      ],
      "metadata": {
        "id": "aFSYaHS3t3ye"
      }
    },
    {
      "cell_type": "code",
      "source": [
        "@torch.no_grad()\n",
        "def generate_text(model, input_ids, max_new_tokens=50, temperature=1.0,\n",
        "                  top_k=50, top_p=0.9, pad_token_id=0):\n",
        "    \"\"\"\n",
        "    Generate text using various sampling strategies.\n",
        "    Optimized for T4 GPU performance.\n",
        "    \"\"\"\n",
        "    model.eval()\n",
        "    batch_size = input_ids.shape[0]\n",
        "\n",
        "    # Pre-allocate tensor for efficiency\n",
        "    max_seq_len = input_ids.shape[1] + max_new_tokens\n",
        "    if max_seq_len > model.max_seq_len:\n",
        "        max_seq_len = model.max_seq_len\n",
        "        max_new_tokens = max_seq_len - input_ids.shape[1]\n",
        "\n",
        "    generated = input_ids.clone()\n",
        "\n",
        "    for _ in range(max_new_tokens):\n",
        "        # Get current sequence length\n",
        "        curr_seq_len = generated.shape[1]\n",
        "        if curr_seq_len >= model.max_seq_len:\n",
        "            break\n",
        "\n",
        "        # Forward pass (only compute what we need)\n",
        "        logits = model(generated)\n",
        "        next_token_logits = logits[:, -1, :] / temperature\n",
        "\n",
        "        # Apply top-k filtering\n",
        "        if top_k > 0:\n",
        "            top_k_vals, top_k_indices = torch.topk(next_token_logits, min(top_k, logits.size(-1)))\n",
        "            next_token_logits[next_token_logits < top_k_vals[:, [-1]]] = -float('inf')\n",
        "\n",
        "        # Apply nucleus (top-p) filtering\n",
        "        if top_p < 1.0:\n",
        "            sorted_logits, sorted_indices = torch.sort(next_token_logits, descending=True)\n",
        "            cumulative_probs = torch.cumsum(F.softmax(sorted_logits, dim=-1), dim=-1)\n",
        "\n",
        "            # Remove tokens with cumulative probability above threshold\n",
        "            sorted_indices_to_remove = cumulative_probs > top_p\n",
        "            sorted_indices_to_remove[..., 1:] = sorted_indices_to_remove[..., :-1].clone()\n",
        "            sorted_indices_to_remove[..., 0] = False\n",
        "\n",
        "            # Scatter back to original indexing\n",
        "            indices_to_remove = sorted_indices_to_remove.scatter(1, sorted_indices, sorted_indices_to_remove)\n",
        "            next_token_logits[indices_to_remove] = -float('inf')\n",
        "\n",
        "        # Sample next token\n",
        "        probs = F.softmax(next_token_logits, dim=-1)\n",
        "        next_token = torch.multinomial(probs, num_samples=1)\n",
        "\n",
        "        # Append to sequence\n",
        "        generated = torch.cat([generated, next_token], dim=1)\n",
        "\n",
        "    return generated\n",
        "\n",
        "# Dummy tokenizer for demonstration\n",
        "class SimpleTokenizer:\n",
        "    def __init__(self, vocab_size):\n",
        "        self.vocab_size = vocab_size\n",
        "\n",
        "    def encode(self, text):\n",
        "        # Dummy encoding - in practice use real tokenizer like tiktoken\n",
        "        return torch.randint(1, self.vocab_size-100, (1, len(text.split()) + 1))\n",
        "\n",
        "    def decode(self, tokens):\n",
        "        # Dummy decoding\n",
        "        return \" \".join([f\"tok_{t.item()}\" for t in tokens.squeeze() if t != 0])\n",
        "\n",
        "# Test text generation\n",
        "tokenizer = SimpleTokenizer(config_small['vocab_size'])\n",
        "\n",
        "print(\"Testing Text Generation:\")\n",
        "print(\"=\" * 50)\n",
        "\n",
        "# Test different sampling strategies\n",
        "test_prompts = [\n",
        "    \"The future of artificial intelligence\",\n",
        "    \"In a world where robots\",\n",
        "]\n",
        "\n",
        "for i, prompt in enumerate(test_prompts):\n",
        "    print(f\"\\Prompt {i+1}: '{prompt}'\")\n",
        "    input_ids = tokenizer.encode(prompt).to(device)\n",
        "\n",
        "    # Different sampling strategies\n",
        "    strategies = [\n",
        "        (\"Greedy\", {\"temperature\": 0.1, \"top_k\": 1}),\n",
        "        (\"Creative\", {\"temperature\": 1.2, \"top_k\": 50, \"top_p\": 0.9}),\n",
        "        (\"Balanced\", {\"temperature\": 0.8, \"top_k\": 40, \"top_p\": 0.95}),\n",
        "    ]\n",
        "\n",
        "    for name, params in strategies:\n",
        "        generated = generate_text(model, input_ids, max_new_tokens=20, **params)\n",
        "        decoded = tokenizer.decode(generated)\n",
        "        print(f\"   {name:>10}: {decoded[:100]}...\")\n",
        "\n",
        "print(\"\\Text generation working!\")"
      ],
      "metadata": {
        "colab": {
          "base_uri": "https://localhost:8080/"
        },
        "id": "IdIvLueItxWP",
        "outputId": "52d868d5-c8b1-4a20-926e-4ef336419b65"
      },
      "execution_count": 15,
      "outputs": [
        {
          "output_type": "stream",
          "name": "stderr",
          "text": [
            "<>:83: SyntaxWarning: invalid escape sequence '\\P'\n",
            "<>:98: SyntaxWarning: invalid escape sequence '\\T'\n",
            "<>:83: SyntaxWarning: invalid escape sequence '\\P'\n",
            "<>:98: SyntaxWarning: invalid escape sequence '\\T'\n",
            "/tmp/ipython-input-2322836697.py:83: SyntaxWarning: invalid escape sequence '\\P'\n",
            "  print(f\"\\Prompt {i+1}: '{prompt}'\")\n",
            "/tmp/ipython-input-2322836697.py:98: SyntaxWarning: invalid escape sequence '\\T'\n",
            "  print(\"\\Text generation working!\")\n"
          ]
        },
        {
          "output_type": "stream",
          "name": "stdout",
          "text": [
            "Testing Text Generation:\n",
            "==================================================\n",
            "\\Prompt 1: 'The future of artificial intelligence'\n",
            "       Greedy: tok_3663 tok_19038 tok_39148 tok_41784 tok_42058 tok_48586 tok_48586 tok_48586 tok_48586 tok_48586 t...\n",
            "     Creative: tok_3663 tok_19038 tok_39148 tok_41784 tok_42058 tok_48586 tok_48586 tok_48586 tok_40491 tok_3749 to...\n",
            "     Balanced: tok_3663 tok_19038 tok_39148 tok_41784 tok_42058 tok_48586 tok_48586 tok_48586 tok_48586 tok_48586 t...\n",
            "\\Prompt 2: 'In a world where robots'\n",
            "       Greedy: tok_715 tok_32213 tok_19790 tok_17124 tok_35049 tok_29625 tok_29625 tok_29625 tok_29625 tok_29625 to...\n",
            "     Creative: tok_715 tok_32213 tok_19790 tok_17124 tok_35049 tok_29625 tok_6403 tok_6403 tok_6403 tok_6403 tok_29...\n",
            "     Balanced: tok_715 tok_32213 tok_19790 tok_17124 tok_35049 tok_29625 tok_29625 tok_29625 tok_29625 tok_29625 to...\n",
            "\\Text generation working!\n"
          ]
        }
      ]
    },
    {
      "cell_type": "markdown",
      "source": [
        "## Training Demo\n",
        "\n",
        "Let's implement a basic training loop to show how the model learns!\n",
        "\n",
        "### T4-Friendly Training:\n",
        "- **Small batch size**: To fit in 15GB VRAM\n",
        "- **Gradient accumulation**: Simulate larger batches\n",
        "- **Mixed precision**: Faster training with AMP\n",
        "- **Gradient clipping**: Prevent exploding gradients\n",
        "\n",
        "### Note:\n",
        "This is a demo with random data. Real training needs:\n",
        "- Proper tokenized text dataset\n",
        "- Learning rate scheduling  \n",
        "- Validation monitoring\n",
        "- Much longer training time"
      ],
      "metadata": {
        "id": "uCsFzBpOuKyZ"
      }
    },
    {
      "cell_type": "code",
      "source": [
        "# Training utilities\n",
        "from torch.cuda.amp import autocast, GradScaler\n",
        "\n",
        "def create_dummy_dataset(vocab_size, seq_len, num_samples=1000):\n",
        "    \"\"\"Create dummy training data for demonstration.\"\"\"\n",
        "    # In real training, use proper tokenized text\n",
        "    data = torch.randint(1, vocab_size-1, (num_samples, seq_len))\n",
        "    return TensorDataset(data)\n",
        "\n",
        "def train_step(model, batch, optimizer, scaler, criterion, device):\n",
        "    \"\"\"Single training step with mixed precision.\"\"\"\n",
        "    input_ids = batch[0].to(device)\n",
        "\n",
        "    # Prepare inputs and targets for causal LM\n",
        "    inputs = input_ids[:, :-1]\n",
        "    targets = input_ids[:, 1:]\n",
        "\n",
        "    optimizer.zero_grad()\n",
        "\n",
        "    # Mixed precision forward pass\n",
        "    with autocast():\n",
        "        logits = model(inputs)\n",
        "        # Use reshape instead of view to handle non-contiguous tensors\n",
        "        loss = criterion(logits.reshape(-1, logits.size(-1)), targets.reshape(-1))\n",
        "\n",
        "    # Backward pass with gradient scaling\n",
        "    scaler.scale(loss).backward()\n",
        "    scaler.unscale_(optimizer)\n",
        "\n",
        "    # Gradient clipping\n",
        "    torch.nn.utils.clip_grad_norm_(model.parameters(), max_norm=1.0)\n",
        "\n",
        "    # Optimizer step\n",
        "    scaler.step(optimizer)\n",
        "    scaler.update()\n",
        "\n",
        "    return loss.item()\n",
        "\n",
        "# Training demo\n",
        "print(\"Training Demo (with dummy data)\")\n",
        "print(\"=\" * 50)\n",
        "\n",
        "# Create a tiny model for training demo\n",
        "tiny_config = {\n",
        "    'vocab_size': 1000,  # Smaller vocab for demo\n",
        "    'd_model': 256,\n",
        "    'n_heads': 8,\n",
        "    'n_layers': 4,\n",
        "    'max_seq_len': 128,\n",
        "    'dropout': 0.1\n",
        "}\n",
        "\n",
        "print(\"Creating tiny model for training demo...\")\n",
        "tiny_model = GPT2Model(**tiny_config).to(device)\n",
        "tiny_stats = get_model_size(tiny_model)\n",
        "print(f\"Parameters: {tiny_stats['parameters']:,}\")\n",
        "print(f\"Size: {tiny_stats['size_mb']:.1f}MB\")\n",
        "\n",
        "# Training setup\n",
        "seq_len = 64\n",
        "batch_size = 8  # Small batch for T4\n",
        "learning_rate = 3e-4\n",
        "\n",
        "# Create dummy dataset\n",
        "dataset = create_dummy_dataset(tiny_config['vocab_size'], seq_len, num_samples=100)\n",
        "dataloader = DataLoader(dataset, batch_size=batch_size, shuffle=True)\n",
        "\n",
        "# Training components\n",
        "optimizer = torch.optim.AdamW(tiny_model.parameters(), lr=learning_rate, betas=(0.9, 0.95))\n",
        "criterion = nn.CrossEntropyLoss()\n",
        "scaler = GradScaler()  # For mixed precision\n",
        "\n",
        "# Training loop (just a few steps for demo)\n",
        "tiny_model.train()\n",
        "num_steps = 10\n",
        "losses = []\n",
        "\n",
        "print(f\"\\nTraining for {num_steps} steps...\")\n",
        "start_time = time.time()\n",
        "\n",
        "for step, batch in enumerate(dataloader):\n",
        "    if step >= num_steps:\n",
        "        break\n",
        "\n",
        "    loss = train_step(tiny_model, batch, optimizer, scaler, criterion, device)\n",
        "    losses.append(loss)\n",
        "\n",
        "    if step % 2 == 0:\n",
        "        print(f\"   Step {step:2d}: Loss = {loss:.4f}\")\n",
        "\n",
        "end_time = time.time()\n",
        "print(f\"\\nTraining completed in {end_time - start_time:.2f} seconds\")\n",
        "print(f\"Final loss: {losses[-1]:.4f}\")\n",
        "print(f\"Loss reduction: {losses[0] - losses[-1]:.4f}\")\n",
        "\n",
        "# Plot training loss\n",
        "plt.figure(figsize=(8, 4))\n",
        "plt.plot(losses, 'b-', linewidth=2)\n",
        "plt.title('Training Loss (Demo)')\n",
        "plt.xlabel('Step')\n",
        "plt.ylabel('Loss')\n",
        "plt.grid(True, alpha=0.3)\n",
        "plt.show()\n",
        "\n",
        "# Memory check after training\n",
        "check_gpu_memory()\n",
        "\n",
        "# Test generation after training\n",
        "print(\"\\nTesting generation after training:\")\n",
        "test_input = torch.randint(1, tiny_config['vocab_size']-1, (1, 5)).to(device)\n",
        "with torch.no_grad():\n",
        "    generated = generate_text(tiny_model, test_input, max_new_tokens=10, temperature=0.8)\n",
        "print(f\"Generated sequence: {generated.squeeze().tolist()}\")"
      ],
      "metadata": {
        "colab": {
          "base_uri": "https://localhost:8080/",
          "height": 859
        },
        "id": "Bo5SA5ubt-1I",
        "outputId": "3c9115ca-6689-48db-cc16-72ae1379e092"
      },
      "execution_count": 17,
      "outputs": [
        {
          "output_type": "stream",
          "name": "stdout",
          "text": [
            "Training Demo (with dummy data)\n",
            "==================================================\n",
            "Creating tiny model for training demo...\n",
            "Parameters: 3,444,224\n",
            "Size: 13.8MB\n",
            "\n",
            "Training for 10 steps...\n"
          ]
        },
        {
          "output_type": "stream",
          "name": "stderr",
          "text": [
            "/tmp/ipython-input-427750032.py:71: FutureWarning: `torch.cuda.amp.GradScaler(args...)` is deprecated. Please use `torch.amp.GradScaler('cuda', args...)` instead.\n",
            "  scaler = GradScaler()  # For mixed precision\n",
            "/tmp/ipython-input-427750032.py:21: FutureWarning: `torch.cuda.amp.autocast(args...)` is deprecated. Please use `torch.amp.autocast('cuda', args...)` instead.\n",
            "  with autocast():\n"
          ]
        },
        {
          "output_type": "stream",
          "name": "stdout",
          "text": [
            "   Step  0: Loss = 7.0356\n",
            "   Step  2: Loss = 7.0129\n",
            "   Step  4: Loss = 6.9992\n",
            "   Step  6: Loss = 6.9792\n",
            "   Step  8: Loss = 6.9963\n",
            "\n",
            "Training completed in 0.38 seconds\n",
            "Final loss: 7.0082\n",
            "Loss reduction: 0.0273\n"
          ]
        },
        {
          "output_type": "display_data",
          "data": {
            "text/plain": [
              "<Figure size 800x400 with 1 Axes>"
            ],
            "image/png": "[encoded data removed]"
          },
          "metadata": {}
        },
        {
          "output_type": "stream",
          "name": "stdout",
          "text": [
            "GPU Memory - Allocated: 0.8GB, Cached: 1.4GB, Total: 15.8GB\n",
            "\n",
            "Testing generation after training:\n",
            "Generated sequence: [466, 130, 710, 104, 864, 864, 864, 592, 592, 108, 711, 711, 82, 373, 463]\n"
          ]
        }
      ]
    },
    {
      "cell_type": "markdown",
      "source": [
        "## Performance Testing & Benchmarks\n",
        "\n",
        "Let's benchmark our model on T4 to understand its performance characteristics.\n",
        "\n",
        "### What We'll Test:\n",
        "- **Forward pass speed** for different sequence lengths\n",
        "- **Memory usage** scaling\n",
        "- **Generation speed** with different batch sizes\n",
        "- **Training throughput** (tokens per second)\n",
        "\n",
        "### T4 Baseline Performance:\n",
        "- Forward pass: ~100-500 tokens/sec (depends on model size)\n",
        "- Training: ~50-200 tokens/sec with mixed precision\n",
        "- Memory efficiency: Can handle GPT-2 Small/Medium"
      ],
      "metadata": {
        "id": "uv9kf0-fuxue"
      }
    },
    {
      "cell_type": "code",
      "source": [
        "def benchmark_model(model, batch_sizes=[1, 2, 4], seq_lens=[64, 128, 256, 512]):\n",
        "    \"\"\"Comprehensive model benchmarking.\"\"\"\n",
        "    model.eval()\n",
        "    results = {'forward_pass': [], 'memory_usage': []}\n",
        "\n",
        "    print(\"Performance Benchmarking\")\n",
        "    print(\"=\" * 60)\n",
        "    print(f\"{'Batch Size':>10} {'Seq Len':>10} {'Time (ms)':>12} {'Tokens/sec':>12} {'Memory (MB)':>12}\")\n",
        "    print(\"-\" * 60)\n",
        "\n",
        "    for batch_size in batch_sizes:\n",
        "        for seq_len in seq_lens:\n",
        "            if seq_len > model.max_seq_len:\n",
        "                continue\n",
        "\n",
        "            # Clear GPU cache\n",
        "            torch.cuda.empty_cache()\n",
        "\n",
        "            # Create test input\n",
        "            test_input = torch.randint(0, 50000, (batch_size, seq_len)).to(device)\n",
        "\n",
        "            # Warmup runs\n",
        "            with torch.no_grad():\n",
        "                for _ in range(3):\n",
        "                    _ = model(test_input)\n",
        "\n",
        "            torch.cuda.synchronize()\n",
        "\n",
        "            # Benchmark runs\n",
        "            times = []\n",
        "            with torch.no_grad():\n",
        "                for _ in range(10):\n",
        "                    start = time.time()\n",
        "                    logits = model(test_input)\n",
        "                    torch.cuda.synchronize()\n",
        "                    times.append(time.time() - start)\n",
        "\n",
        "            avg_time = np.mean(times) * 1000  # Convert to ms\n",
        "            total_tokens = batch_size * seq_len\n",
        "            tokens_per_sec = total_tokens / (avg_time / 1000)\n",
        "\n",
        "            # Memory usage\n",
        "            memory_mb = torch.cuda.memory_allocated() / 1e6\n",
        "\n",
        "            results['forward_pass'].append({\n",
        "                'batch_size': batch_size,\n",
        "                'seq_len': seq_len,\n",
        "                'time_ms': avg_time,\n",
        "                'tokens_per_sec': tokens_per_sec,\n",
        "                'memory_mb': memory_mb\n",
        "            })\n",
        "\n",
        "            print(f\"{batch_size:>10} {seq_len:>10} {avg_time:>12.2f} {tokens_per_sec:>12.0f} {memory_mb:>12.1f}\")\n",
        "\n",
        "    return results\n",
        "\n",
        "# Benchmark the full GPT-2 model\n",
        "print(\"Benchmarking GPT-2 Small on T4...\")\n",
        "benchmark_results = benchmark_model(model, batch_sizes=[1, 2], seq_lens=[64, 128, 256])\n",
        "\n",
        "# Generation speed benchmark\n",
        "def benchmark_generation(model, seq_lens=[10, 20, 50], num_generations=5):\n",
        "    \"\"\"Benchmark text generation speed.\"\"\"\n",
        "    model.eval()\n",
        "    print(f\"\\nGeneration Speed Benchmark\")\n",
        "    print(\"=\" * 50)\n",
        "    print(f\"{'Seq Len':>10} {'Avg Time (s)':>15} {'Tokens/sec':>12}\")\n",
        "    print(\"-\" * 50)\n",
        "\n",
        "    for seq_len in seq_lens:\n",
        "        times = []\n",
        "\n",
        "        for _ in range(num_generations):\n",
        "            # Random starting sequence\n",
        "            start_ids = torch.randint(1, 1000, (1, 5)).to(device)\n",
        "\n",
        "            torch.cuda.synchronize()\n",
        "            start_time = time.time()\n",
        "\n",
        "            with torch.no_grad():\n",
        "                generated = generate_text(\n",
        "                    model, start_ids,\n",
        "                    max_new_tokens=seq_len,\n",
        "                    temperature=0.8\n",
        "                )\n",
        "\n",
        "            torch.cuda.synchronize()\n",
        "            times.append(time.time() - start_time)\n",
        "\n",
        "        avg_time = np.mean(times)\n",
        "        tokens_per_sec = seq_len / avg_time\n",
        "\n",
        "        print(f\"{seq_len:>10} {avg_time:>15.3f} {tokens_per_sec:>12.1f}\")\n",
        "\n",
        "benchmark_generation(model)"
      ],
      "metadata": {
        "colab": {
          "base_uri": "https://localhost:8080/"
        },
        "id": "e9FT_zW0uj43",
        "outputId": "c5a43928-826f-4bd6-bb71-06ed111cd04c"
      },
      "execution_count": 19,
      "outputs": [
        {
          "output_type": "stream",
          "name": "stdout",
          "text": [
            "Benchmarking GPT-2 Small on T4...\n",
            "Performance Benchmarking\n",
            "============================================================\n",
            "Batch Size    Seq Len    Time (ms)   Tokens/sec  Memory (MB)\n",
            "------------------------------------------------------------\n",
            "         1         64        10.51         6091        852.8\n",
            "         1        128        11.14        11487        865.7\n",
            "         1        256        20.52        12475        892.4\n",
            "         2         64        10.73        11930        865.7\n",
            "         2        128        20.55        12455        892.4\n",
            "         2        256        39.34        13013        942.9\n",
            "\n",
            "Generation Speed Benchmark\n",
            "==================================================\n",
            "   Seq Len    Avg Time (s)   Tokens/sec\n",
            "--------------------------------------------------\n",
            "        10           0.067        150.1\n",
            "        20           0.134        149.0\n",
            "        50           0.356        140.4\n"
          ]
        }
      ]
    },
    {
      "cell_type": "markdown",
      "source": [
        "## Model Configurations for T4\n",
        "\n",
        "Here are the GPT-2 configurations that work well on T4 GPU:\n",
        "\n",
        "### Memory Guidelines:\n",
        "- **T4 VRAM**: ~15GB available\n",
        "- **GPT-2 Small**: ~0.5GB (Great for training)\n",
        "- **GPT-2 Medium**: ~1.3GB (Good for training)  \n",
        "- **GPT-2 Large**: ~3.0GB (Inference only)\n",
        "- **GPT-2 XL**: ~6.0GB (Inference only, short sequences)\n",
        "\n",
        "### Recommendations:\n",
        "- **Learning**: Use GPT-2 Small\n",
        "- **Experimentation**: GPT-2 Medium with gradient checkpointing\n",
        "- **Production inference**: GPT-2 Large with optimizations"
      ],
      "metadata": {
        "id": "8KO7djaAvAl8"
      }
    },
    {
      "cell_type": "code",
      "source": [
        "# Complete model configurations optimized for T4\n",
        "t4_configs = {\n",
        "    'gpt2-nano': {  # Perfect for learning/testing\n",
        "        'vocab_size': 50257,\n",
        "        'd_model': 512,\n",
        "        'n_heads': 8,\n",
        "        'n_layers': 8,\n",
        "        'max_seq_len': 1024,\n",
        "        'memory_gb': 0.2,\n",
        "        'training': 'Excellent',\n",
        "        'batch_size': 16\n",
        "    },\n",
        "\n",
        "    'gpt2-small': {  # Standard GPT-2 Small\n",
        "        'vocab_size': 50257,\n",
        "        'd_model': 768,\n",
        "        'n_heads': 12,\n",
        "        'n_layers': 12,\n",
        "        'max_seq_len': 1024,\n",
        "        'memory_gb': 0.5,\n",
        "        'training': 'Great',\n",
        "        'batch_size': 8\n",
        "    },\n",
        "\n",
        "    'gpt2-medium': {  # GPT-2 Medium with optimizations\n",
        "        'vocab_size': 50257,\n",
        "        'd_model': 1024,\n",
        "        'n_heads': 16,\n",
        "        'n_layers': 24,\n",
        "        'max_seq_len': 1024,\n",
        "        'memory_gb': 1.3,\n",
        "        'training': 'Good (use checkpointing)',\n",
        "        'batch_size': 4\n",
        "    },\n",
        "\n",
        "    'gpt2-large': {  # Inference only\n",
        "        'vocab_size': 50257,\n",
        "        'd_model': 1280,\n",
        "        'n_heads': 20,\n",
        "        'n_layers': 36,\n",
        "        'max_seq_len': 1024,\n",
        "        'memory_gb': 3.0,\n",
        "        'training': 'Inference only',\n",
        "        'batch_size': 1\n",
        "    }\n",
        "}\n",
        "\n",
        "def create_optimized_model(config_name, use_checkpointing=False):\n",
        "    \"\"\"Create model optimized for T4.\"\"\"\n",
        "    if config_name not in t4_configs:\n",
        "        raise ValueError(f\"Config {config_name} not found!\")\n",
        "\n",
        "    config = t4_configs[config_name].copy()\n",
        "\n",
        "    # Remove non-model parameters\n",
        "    model_params = {k: v for k, v in config.items()\n",
        "                   if k in ['vocab_size', 'd_model', 'n_heads', 'n_layers', 'max_seq_len']}\n",
        "\n",
        "    model = GPT2Model(**model_params, use_checkpointing=use_checkpointing)\n",
        "    return model.to(device)\n",
        "\n",
        "# Display available configurations\n",
        "import pandas as pd\n",
        "df_configs = pd.DataFrame(t4_configs).T\n",
        "print(\"T4-Optimized Model Configurations:\")\n",
        "print(\"=\" * 60)\n",
        "display_cols = ['memory_gb', 'training', 'batch_size']\n",
        "for col in display_cols:\n",
        "    if col in df_configs.columns:\n",
        "        print(f\"\\n{col.upper()}:\")\n",
        "        for idx, val in df_configs[col].items():\n",
        "            print(f\"  {idx:>15}: {val}\")\n",
        "\n",
        "# Create and test different model sizes\n",
        "print(f\"\\nTesting different model sizes:\")\n",
        "for config_name in ['gpt2-nano', 'gpt2-small']:\n",
        "    print(f\"\\n   {config_name}:\")\n",
        "    test_model = create_optimized_model(config_name)\n",
        "    stats = get_model_size(test_model)\n",
        "    print(f\"Parameters: {stats['parameters']:,}\")\n",
        "    print(f\"Memory: {stats['size_mb']:.1f}MB\")\n",
        "\n",
        "    # Quick forward pass test\n",
        "    test_input = torch.randint(0, 50257, (1, 10)).to(device)\n",
        "    with torch.no_grad():\n",
        "        output = test_model(test_input)\n",
        "    print(f\"Forward pass: {test_input.shape} -> {output.shape}\")\n",
        "\n",
        "    # Clean up\n",
        "    del test_model\n",
        "    torch.cuda.empty_cache()"
      ],
      "metadata": {
        "colab": {
          "base_uri": "https://localhost:8080/"
        },
        "id": "v8hrCClRu2S-",
        "outputId": "a930fbad-e643-461f-c111-c97f82a5d514"
      },
      "execution_count": 21,
      "outputs": [
        {
          "output_type": "stream",
          "name": "stdout",
          "text": [
            "T4-Optimized Model Configurations:\n",
            "============================================================\n",
            "\n",
            "MEMORY_GB:\n",
            "        gpt2-nano: 0.2\n",
            "       gpt2-small: 0.5\n",
            "      gpt2-medium: 1.3\n",
            "       gpt2-large: 3.0\n",
            "\n",
            "TRAINING:\n",
            "        gpt2-nano: Excellent\n",
            "       gpt2-small: Great\n",
            "      gpt2-medium: Good (use checkpointing)\n",
            "       gpt2-large: Inference only\n",
            "\n",
            "BATCH_SIZE:\n",
            "        gpt2-nano: 16\n",
            "       gpt2-small: 8\n",
            "      gpt2-medium: 4\n",
            "       gpt2-large: 1\n",
            "\n",
            "Testing different model sizes:\n",
            "\n",
            "   gpt2-nano:\n",
            "Parameters: 51,459,584\n",
            "Memory: 205.8MB\n",
            "Forward pass: torch.Size([1, 10]) -> torch.Size([1, 10, 50257])\n",
            "\n",
            "   gpt2-small:\n",
            "Parameters: 124,402,944\n",
            "Memory: 497.6MB\n",
            "Forward pass: torch.Size([1, 10]) -> torch.Size([1, 10, 50257])\n"
          ]
        }
      ]
    },
    {
      "cell_type": "code",
      "source": [],
      "metadata": {
        "id": "wfKezGcYvK0K"
      },
      "execution_count": null,
      "outputs": []
    }
  ]
}